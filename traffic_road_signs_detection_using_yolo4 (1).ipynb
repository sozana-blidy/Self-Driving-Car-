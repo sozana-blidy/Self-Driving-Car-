{
 "cells": [
  {
   "cell_type": "markdown",
   "metadata": {
    "id": "s9LjZYpPYXbZ"
   },
   "source": [
    "Mounting to drive "
   ]
  },
  {
   "cell_type": "code",
   "execution_count": null,
   "metadata": {
    "colab": {
     "base_uri": "https://localhost:8080/"
    },
    "id": "hLoOUMpKZESl",
    "outputId": "75c8b5d7-9d50-4380-e4a0-b64f0165894a"
   },
   "outputs": [
    {
     "name": "stdout",
     "output_type": "stream",
     "text": [
      "Mounted at /content/drive\n"
     ]
    }
   ],
   "source": [
    "from google.colab import drive\n",
    "drive.mount('/content/drive') "
   ]
  },
  {
   "cell_type": "markdown",
   "metadata": {
    "id": "O6MIRB1yYcPF"
   },
   "source": [
    "copy .py files from drive so we can use it"
   ]
  },
  {
   "cell_type": "code",
   "execution_count": null,
   "metadata": {
    "id": "NiiTOImrY84Y"
   },
   "outputs": [],
   "source": [
    "!cp /content/drive/MyDrive/Sozana/yolo_utils.py /content"
   ]
  },
  {
   "cell_type": "code",
   "execution_count": null,
   "metadata": {
    "id": "WxDKWXHpakKU"
   },
   "outputs": [],
   "source": [
    "!cp /content/drive/MyDrive/Sozana/setup_sets.py /content"
   ]
  },
  {
   "cell_type": "markdown",
   "metadata": {
    "id": "11AQgjr0YiKS"
   },
   "source": [
    "copy dataset from drive and unzip it "
   ]
  },
  {
   "cell_type": "code",
   "execution_count": null,
   "metadata": {
    "colab": {
     "base_uri": "https://localhost:8080/",
     "height": 35
    },
    "id": "bpDNZeinakPF",
    "outputId": "0551a1c5-40de-478d-851c-57a1e4733cfd"
   },
   "outputs": [
    {
     "data": {
      "application/vnd.google.colaboratory.intrinsic+json": {
       "type": "string"
      },
      "text/plain": [
       "'Traffic.Road.Signs.zip'"
      ]
     },
     "execution_count": 5,
     "metadata": {},
     "output_type": "execute_result"
    }
   ],
   "source": [
    "import shutil\n",
    "shutil.copyfile('drive/MyDrive/Traffic.Road.Signs.YoloV3.format.v2-10-01-2021.darknet.zip', 'Traffic.Road.Signs.zip')"
   ]
  },
  {
   "cell_type": "code",
   "execution_count": null,
   "metadata": {
    "id": "wrQ1R80RakRr"
   },
   "outputs": [],
   "source": [
    "shutil.unpack_archive('Traffic.Road.Signs.zip','Traffic.Road.Signs')"
   ]
  },
  {
   "cell_type": "markdown",
   "metadata": {
    "id": "ORLVNOjQYsaw"
   },
   "source": [
    "check openCV version,\n",
    "\n",
    " if not 4.5.5 make it 4.5.5 !!"
   ]
  },
  {
   "cell_type": "code",
   "execution_count": null,
   "metadata": {
    "id": "iGkEx2FVYrbw"
   },
   "outputs": [],
   "source": [
    "print('OpenCV version : ', cv2. __version__)\n",
    "print(cv2.cuda.getCudaEnabledDeviceCount())"
   ]
  },
  {
   "cell_type": "code",
   "execution_count": null,
   "metadata": {
    "colab": {
     "base_uri": "https://localhost:8080/"
    },
    "id": "ZkGjEzAR6hZO",
    "outputId": "60e55bec-4104-4b0c-d392-82367ef732eb"
   },
   "outputs": [
    {
     "name": "stdout",
     "output_type": "stream",
     "text": [
      "Looking in indexes: https://pypi.org/simple, https://us-python.pkg.dev/colab-wheels/public/simple/\n",
      "Requirement already satisfied: opencv-python==4.5.5.62 in /usr/local/lib/python3.7/dist-packages (4.5.5.62)\n",
      "Requirement already satisfied: numpy>=1.14.5 in /usr/local/lib/python3.7/dist-packages (from opencv-python==4.5.5.62) (1.21.6)\n"
     ]
    }
   ],
   "source": [
    "pip install opencv-python==4.5.5.62 "
   ]
  },
  {
   "cell_type": "code",
   "execution_count": null,
   "metadata": {
    "colab": {
     "base_uri": "https://localhost:8080/"
    },
    "id": "VgFkipuK-_5E",
    "outputId": "5f997dd6-20e3-4ce4-8646-52b9fc8d9084"
   },
   "outputs": [
    {
     "name": "stdout",
     "output_type": "stream",
     "text": [
      "OpenCV version :  4.5.5\n",
      "0\n"
     ]
    }
   ],
   "source": [
    "# import useful libraries\n",
    "import os\n",
    "import numpy as np\n",
    "import cv2\n",
    "from yolo_utils import *"
   ]
  },
  {
   "cell_type": "markdown",
   "metadata": {
    "id": "xyOLU0hNY-Q4"
   },
   "source": [
    "execute setup_sets to prepare dataset for our pretrained model"
   ]
  },
  {
   "cell_type": "code",
   "execution_count": null,
   "metadata": {
    "colab": {
     "base_uri": "https://localhost:8080/"
    },
    "id": "sq8h_rXJ6hcg",
    "outputId": "9a2a9e44-955e-4b9d-ef31-a53578592aa7"
   },
   "outputs": [
    {
     "name": "stdout",
     "output_type": "stream",
     "text": [
      "\n",
      " Start Processing!\n",
      "\n",
      " Processing complete!\n"
     ]
    }
   ],
   "source": [
    "!python /content/setup_sets.py"
   ]
  },
  {
   "cell_type": "markdown",
   "metadata": {
    "id": "J011UaOx-_5H"
   },
   "source": [
    "### Load YoloV4 labels"
   ]
  },
  {
   "cell_type": "code",
   "execution_count": null,
   "metadata": {
    "colab": {
     "base_uri": "https://localhost:8080/"
    },
    "id": "6lNsDmSE-_5I",
    "outputId": "3e0cc102-4e61-4e46-f712-c971d96b6f79"
   },
   "outputs": [
    {
     "name": "stdout",
     "output_type": "stream",
     "text": [
      "Classes' names :\n",
      " ['crosswalk', 'speedlimit', 'stop', 'trafficlight']\n"
     ]
    }
   ],
   "source": [
    "# test our function read_classes to make sure it consider all road sign that we want\n",
    "img_file = '/content/Traffic.Road.Signs/data/obj.names'\n",
    "classNames = read_classes(img_file)\n",
    "print(\"Classes' names :\\n\", classNames)"
   ]
  },
  {
   "cell_type": "code",
   "execution_count": null,
   "metadata": {
    "colab": {
     "base_uri": "https://localhost:8080/"
    },
    "id": "q0dIzpfA8sdw",
    "outputId": "cc1f641b-12fa-42f5-e70e-a37239b5238f"
   },
   "outputs": [
    {
     "name": "stdout",
     "output_type": "stream",
     "text": [
      "Looking in indexes: https://pypi.org/simple, https://us-python.pkg.dev/colab-wheels/public/simple/\n",
      "Collecting wget\n",
      "  Downloading wget-3.2.zip (10 kB)\n",
      "Building wheels for collected packages: wget\n",
      "  Building wheel for wget (setup.py) ... \u001b[?25l\u001b[?25hdone\n",
      "  Created wheel for wget: filename=wget-3.2-py3-none-any.whl size=9675 sha256=27a2ef169c42b89b30038b6caa789fa3c33ac43f70b86b5a1418005751c0c7e9\n",
      "  Stored in directory: /root/.cache/pip/wheels/a1/b6/7c/0e63e34eb06634181c63adacca38b79ff8f35c37e3c13e3c02\n",
      "Successfully built wget\n",
      "Installing collected packages: wget\n",
      "Successfully installed wget-3.2\n"
     ]
    }
   ],
   "source": [
    "pip install wget"
   ]
  },
  {
   "cell_type": "code",
   "execution_count": null,
   "metadata": {
    "colab": {
     "base_uri": "https://localhost:8080/",
     "height": 35
    },
    "id": "sYmLADJ2LNSA",
    "outputId": "60ce3f4b-9064-4b88-cf80-b3dbda461699"
   },
   "outputs": [
    {
     "data": {
      "application/vnd.google.colaboratory.intrinsic+json": {
       "type": "string"
      },
      "text/plain": [
       "'/content/drive/MyDrive/traffic-sign-detector-yolov4-main/weights/yolov4-rds_best_2000 (1).weights'"
      ]
     },
     "execution_count": 6,
     "metadata": {},
     "output_type": "execute_result"
    }
   ],
   "source": [
    "# download yolo4 weights from github and move it to specific path \n",
    "import wget\n",
    "url =\"https://github.com/fredotran/traffic-signs-detection/releases/download/weights/yolov4-rds_best_2000.weights\"\n",
    "path = '/content/drive/MyDrive/traffic-sign-detector-yolov4-main/weights'\n",
    "wget.download(url, path)"
   ]
  },
  {
   "cell_type": "code",
   "execution_count": null,
   "metadata": {
    "id": "pfg2E1Hr9UtY"
   },
   "outputs": [],
   "source": [
    "# load the model config and weights\n",
    "modelConfig_path = '/content/drive/MyDrive/traffic-sign-detector-yolov4-main/cfg/yolov4-rds.cfg'\n",
    "# modelWeights_path = './weights/yolov4-rds_last.weights'\n",
    "modelWeights_path = '/content/drive/MyDrive/traffic-sign-detector-yolov4-main/weights/yolov4-rds_best_2000.weights'\n",
    "# read the model cfg and weights with the cv2 DNN module\n",
    "neural_net = cv2.dnn.readNetFromDarknet(modelConfig_path, modelWeights_path)\n",
    "# set the preferable Backend to GPU\n",
    "neural_net.setPreferableBackend(cv2.dnn.DNN_BACKEND_CUDA)\n",
    "neural_net.setPreferableTarget(cv2.dnn.DNN_TARGET_CUDA)"
   ]
  },
  {
   "cell_type": "markdown",
   "metadata": {
    "id": "SAu_Ev8vZjk8"
   },
   "source": [
    "convert_to_blob and box_drawing functions are used to detect road sign and draw box around it\n",
    "\n"
   ]
  },
  {
   "cell_type": "code",
   "execution_count": null,
   "metadata": {
    "id": "MVbezQtMHs-d"
   },
   "outputs": [],
   "source": [
    "def convert_to_blob(input_frame, network, height, width):\n",
    "    \"\"\" This function allow us to convert a frame/image into blob format for OpenCV DNN\"\"\"    \n",
    "    blob = cv2.dnn.blobFromImage(input_frame, 1/255, (height,width), [0,0,0], 1, crop=False)\n",
    "    network.setInput(blob)\n",
    "    # get the YOLO output layers numbers (names), these layers will be useful for the detection part\n",
    "    # the layer's name : yolo_82, yolo_94, yolo_106\n",
    "    yoloLayers = network.getLayerNames()\n",
    "    yoloLayers = [(yoloLayers[i -1]) for i in network.getUnconnectedOutLayers()]\n",
    "    # Doing forward propagation with OpenCV\n",
    "    outputs = network.forward(yoloLayers)\n",
    "    \n",
    "    return outputs"
   ]
  },
  {
   "cell_type": "code",
   "execution_count": null,
   "metadata": {
    "id": "LR-S3OWGIvZD"
   },
   "outputs": [],
   "source": [
    "def box_drawing(input_frame, indices, bounding_boxes, class_objects, confidence_probs, classNames, color=(0,255,255), thickness=2):\n",
    "    \"\"\" Drawing the detected objects boxes \"\"\"\n",
    "    # once we have the indices, we'll extract the values of x,y,w,h of the best bounding boxes and store them.\n",
    "    for i in indices:\n",
    "        # i = i[0]\n",
    "        final_box = bounding_boxes[i]\n",
    "    # we'll retrieve the bounding boxes values (coordinates) now and use them to draw our boxes.\n",
    "        x, y, w, h = final_box[0], final_box[1], final_box[2], final_box[3]\n",
    "        x, y, w, h = int(x), int(y), int(w), int(h)        \n",
    "        print('Bounding box coordinates in the frame : ', 'x : ', x,'|| y : ',y,'|| w : ',w,'|| h :',h , '\\n')\n",
    "    \n",
    "        cv2.rectangle(input_frame, (x,y), (x+w,y+h),  color, thickness)\n",
    "        cv2.putText(input_frame, f'{classNames[class_objects[i]].upper()} {int(confidence_probs[i]*100)}%',\n",
    "                        (x, y-5), cv2.FONT_HERSHEY_SIMPLEX, 0.5,  color, thickness=1)"
   ]
  },
  {
   "cell_type": "markdown",
   "metadata": {
    "id": "xzqf7C-VY3kJ"
   },
   "source": [
    "### Test on image files\n",
    "\n"
   ]
  },
  {
   "cell_type": "code",
   "execution_count": null,
   "metadata": {
    "colab": {
     "base_uri": "https://localhost:8080/"
    },
    "id": "pupSo3htY3kL",
    "outputId": "6d7b699e-125f-4e4f-fb9f-31527e0a2b24"
   },
   "outputs": [
    {
     "name": "stdout",
     "output_type": "stream",
     "text": [
      "Number of objects detected :  1 \n",
      "\n",
      "Bounding box coordinates in the frame :  x :  59 || y :  36 || w :  185 || h : 222 \n",
      "\n"
     ]
    }
   ],
   "source": [
    "# defining the input frame resolution for the neural network to process\n",
    "network = neural_net\n",
    "height, width = 416,416\n",
    "\n",
    "# confidence and non-max suppression threshold for this YoloV3 version\n",
    "confidenceThreshold = 0.5\n",
    "nmsThreshold = 0.2\n",
    "\n",
    "# load the image\n",
    "img = cv2.imread('/content/drive/MyDrive/traffic-sign-detector-yolov4-main/inputs/images/speed-limit/speed-limit1.jpg')\n",
    "\n",
    "# using convert_to_blob function : \n",
    "outputs = convert_to_blob(img, network, height, width)    \n",
    "# apply object detection on the video file\n",
    "bounding_boxes, class_objects, confidence_probs = object_detection(outputs, img, confidenceThreshold)   \n",
    "# perform non-max suppression \n",
    "indices = nms_bbox(bounding_boxes, confidence_probs, confidenceThreshold, nmsThreshold)\n",
    "# draw the boxes\n",
    "box_drawing(img, indices, bounding_boxes, class_objects, confidence_probs, classNames, color=(255,0,0), thickness=2)\n",
    "\n",
    "# to save the detected image\n",
    "img_save = cv2.imwrite('/content/drive/MyDrive/traffic-sign-detector-yolov4-main/results/k.jpg', img)\n",
    "\n",
    "# cv2.imshow('Object detection in images', img)\n",
    "# cv2.waitKey()\n",
    "# cv2.destroyAllWindows()"
   ]
  },
  {
   "cell_type": "code",
   "execution_count": null,
   "metadata": {
    "colab": {
     "base_uri": "https://localhost:8080/",
     "height": 425
    },
    "id": "Axu3ACXZY3kN",
    "outputId": "16e4bfe0-2c1c-4595-e2f7-6baf03fdf656",
    "scrolled": false
   },
   "outputs": [
    {
     "data": {
      "image/jpeg": "[encoded data removed]",
      "text/plain": [
       "<IPython.core.display.Image object>"
      ]
     },
     "metadata": {},
     "output_type": "display_data"
    }
   ],
   "source": [
    "from IPython.display import display, Image\n",
    "\n",
    "# display our saved imgs\n",
    "display(Image(filename='/content/drive/MyDrive/traffic-sign-detector-yolov4-main/results/k.jpg'))\n"
   ]
  },
  {
   "cell_type": "code",
   "execution_count": null,
   "metadata": {
    "id": "zBQWa8tjY3kP"
   },
   "outputs": [],
   "source": []
  }
 ],
 "metadata": {
  "accelerator": "GPU",
  "colab": {
   "collapsed_sections": [],
   "name": "traffic_road_signs_detection_using_yolo4.ipynb",
   "provenance": []
  },
  "gpuClass": "standard",
  "kernelspec": {
   "display_name": "Python 3",
   "language": "python",
   "name": "python3"
  },
  "language_info": {
   "codemirror_mode": {
    "name": "ipython",
    "version": 3
   },
   "file_extension": ".py",
   "mimetype": "text/x-python",
   "name": "python",
   "nbconvert_exporter": "python",
   "pygments_lexer": "ipython3",
   "version": "3.8.5"
  }
 },
 "nbformat": 4,
 "nbformat_minor": 1
}
